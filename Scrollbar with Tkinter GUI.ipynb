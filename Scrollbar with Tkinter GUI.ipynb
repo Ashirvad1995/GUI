{
 "cells": [
  {
   "cell_type": "code",
   "execution_count": 4,
   "id": "2213d701",
   "metadata": {},
   "outputs": [],
   "source": [
    "from tkinter import *\n",
    "root = Tk()\n",
    "root.geometry(\"600x300\")\n",
    "root.title(\"Scrollbar Tutorial\")\n",
    "# For connecting scrollbar to a widget\n",
    "# 1. widget(yscrollcommand = scrollbar.set)\n",
    "# 2 scrollbar.config(command=widget.yview)\n",
    "scrollbar = Scrollbar(root)\n",
    "scrollbar.pack(side=RIGHT, fill=Y)\n",
    "\n",
    "listbox = Listbox(root, yscrollcommand = scrollbar.set)\n",
    "for i in range(344):\n",
    "    listbox.insert(END, f\"Item {i}\")\n",
    "\n",
    "listbox.pack(fill = 'both', padx=50)\n",
    "#text = Text(root, yscrollcommand = scrollbar.set)\n",
    "#text.pack(fill=BOTH)\n",
    "scrollbar.config(command= listbox.yview)\n",
    "#scrollbar.config(command=text.yview)\n",
    "root.mainloop()"
   ]
  },
  {
   "cell_type": "code",
   "execution_count": null,
   "id": "b037b49a",
   "metadata": {},
   "outputs": [],
   "source": []
  }
 ],
 "metadata": {
  "kernelspec": {
   "display_name": "Python 3 (ipykernel)",
   "language": "python",
   "name": "python3"
  },
  "language_info": {
   "codemirror_mode": {
    "name": "ipython",
    "version": 3
   },
   "file_extension": ".py",
   "mimetype": "text/x-python",
   "name": "python",
   "nbconvert_exporter": "python",
   "pygments_lexer": "ipython3",
   "version": "3.9.7"
  }
 },
 "nbformat": 4,
 "nbformat_minor": 5
}
