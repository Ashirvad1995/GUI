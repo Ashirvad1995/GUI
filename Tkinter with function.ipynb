{
 "cells": [
  {
   "cell_type": "code",
   "execution_count": null,
   "id": "6abfa0f7",
   "metadata": {},
   "outputs": [],
   "source": [
    "from tkinter import *\n",
    "\n",
    "def harry(event):\n",
    "    print(f\"You clicked on the Button at {event.x},{event.y}\")\n",
    "    \n",
    "root = Tk()\n",
    "root.title(\"Event in the Tkinter\")\n",
    "root.geometry(\"650x325\")\n",
    "\n",
    "xyz = Button(root, text = \"Click me please\")\n",
    "xyz.pack()\n",
    "\n",
    "xyz.bind('<Button-1>', harry)\n",
    "xyz.bind('<Double-1>', quit)\n",
    "root.mainloop()"
   ]
  },
  {
   "cell_type": "code",
   "execution_count": null,
   "id": "cb141020",
   "metadata": {},
   "outputs": [],
   "source": []
  }
 ],
 "metadata": {
  "kernelspec": {
   "display_name": "Python 3 (ipykernel)",
   "language": "python",
   "name": "python3"
  },
  "language_info": {
   "codemirror_mode": {
    "name": "ipython",
    "version": 3
   },
   "file_extension": ".py",
   "mimetype": "text/x-python",
   "name": "python",
   "nbconvert_exporter": "python",
   "pygments_lexer": "ipython3",
   "version": "3.9.7"
  }
 },
 "nbformat": 4,
 "nbformat_minor": 5
}
