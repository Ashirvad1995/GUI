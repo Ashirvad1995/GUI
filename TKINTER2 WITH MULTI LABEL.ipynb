{
 "cells": [
  {
   "cell_type": "code",
   "execution_count": 2,
   "id": "6d66485e",
   "metadata": {},
   "outputs": [],
   "source": [
    "from tkinter import *\n",
    "root = Tk()\n",
    "root.geometry(\"1250x500\")\n",
    "root.maxsize(1300,600)\n",
    "root.minsize(600,300) \n",
    "f1 = Frame(root, bg = \"yellow\", borderwidth = 50, relief = SUNKEN)\n",
    "f1.pack(side = LEFT, anchor = \"ne\")\n",
    "f2 = Frame(root, bg = \"yellow\", borderwidth = 50, relief = SUNKEN)\n",
    "f2.pack(side = LEFT, anchor = \"se\")\n",
    "f3 = Frame(root, bg = \"yellow\", borderwidth = 50, relief = SUNKEN)\n",
    "f3.pack(side = LEFT, anchor = \"sw\")\n",
    "f4 = Frame(root, bg = \"yellow\", borderwidth = 50, relief = SUNKEN)\n",
    "f4.pack(side = LEFT, anchor = \"nw\")\n",
    "label1 = Label(f1,text = \"My Home\", font = \"Algerian 20 bold\", fg = \"green\", pady = 20)\n",
    "label1.pack()\n",
    "label2 = Label(f2,text = \"My Hostel\", font = \"ArialNarrow 20 bold\", fg = \"blue\", pady = 20)\n",
    "label2.pack()\n",
    "label3 = Label(f3,text = \"My Village\", font = \"Algerian 20 bold\", fg = \"red\", pady = 20)\n",
    "label3.pack()\n",
    "label4 = Label(f4,text = \"My Favourite Place\", font = \"Algerian 20 bold\", fg = \"black\", pady = 20)\n",
    "label4.pack()\n",
    "root.mainloop()\n"
   ]
  },
  {
   "cell_type": "code",
   "execution_count": null,
   "id": "f066444f",
   "metadata": {},
   "outputs": [],
   "source": []
  }
 ],
 "metadata": {
  "kernelspec": {
   "display_name": "Python 3 (ipykernel)",
   "language": "python",
   "name": "python3"
  },
  "language_info": {
   "codemirror_mode": {
    "name": "ipython",
    "version": 3
   },
   "file_extension": ".py",
   "mimetype": "text/x-python",
   "name": "python",
   "nbconvert_exporter": "python",
   "pygments_lexer": "ipython3",
   "version": "3.9.7"
  }
 },
 "nbformat": 4,
 "nbformat_minor": 5
}
